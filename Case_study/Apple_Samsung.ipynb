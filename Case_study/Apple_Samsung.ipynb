{
 "cells": [
  {
   "cell_type": "markdown",
   "metadata": {},
   "source": [
    "Никакие экспериментально полученные данные никогда **не подтвердят** какую-либо гипотезу. Это является фундаментальным ограничением. Данные могут лишь не противоречить гипотезе или, наоборот, показывать очень маловероятные результаты (при условии, что гипотеза верна). Но и в том, и в другом случае никогда нет оснований утверждать, что выдвинутая гипотеза **доказана**."
   ]
  },
  {
   "cell_type": "code",
   "execution_count": 1,
   "metadata": {},
   "outputs": [],
   "source": [
    "# Изучим набор данных об удовлетворенности клиентов Apple и Samsung продуктами компаний"
   ]
  },
  {
   "cell_type": "code",
   "execution_count": 2,
   "metadata": {},
   "outputs": [],
   "source": [
    "import pandas as pd"
   ]
  },
  {
   "cell_type": "code",
   "execution_count": 3,
   "metadata": {},
   "outputs": [
    {
     "data": {
      "text/html": [
       "<div>\n",
       "<style scoped>\n",
       "    .dataframe tbody tr th:only-of-type {\n",
       "        vertical-align: middle;\n",
       "    }\n",
       "\n",
       "    .dataframe tbody tr th {\n",
       "        vertical-align: top;\n",
       "    }\n",
       "\n",
       "    .dataframe thead th {\n",
       "        text-align: right;\n",
       "    }\n",
       "</style>\n",
       "<table border=\"1\" class=\"dataframe\">\n",
       "  <thead>\n",
       "    <tr style=\"text-align: right;\">\n",
       "      <th></th>\n",
       "      <th>Sr No</th>\n",
       "      <th>S_Cust_id</th>\n",
       "      <th>Samsung_Score</th>\n",
       "      <th>Apple_Cust_id</th>\n",
       "      <th>Apple_Score</th>\n",
       "    </tr>\n",
       "  </thead>\n",
       "  <tbody>\n",
       "    <tr>\n",
       "      <th>0</th>\n",
       "      <td>1</td>\n",
       "      <td>S336499</td>\n",
       "      <td>94</td>\n",
       "      <td>A336525</td>\n",
       "      <td>82</td>\n",
       "    </tr>\n",
       "    <tr>\n",
       "      <th>1</th>\n",
       "      <td>2</td>\n",
       "      <td>S73004</td>\n",
       "      <td>99</td>\n",
       "      <td>A73011</td>\n",
       "      <td>83</td>\n",
       "    </tr>\n",
       "    <tr>\n",
       "      <th>2</th>\n",
       "      <td>3</td>\n",
       "      <td>S79537</td>\n",
       "      <td>74</td>\n",
       "      <td>A79538</td>\n",
       "      <td>88</td>\n",
       "    </tr>\n",
       "    <tr>\n",
       "      <th>3</th>\n",
       "      <td>4</td>\n",
       "      <td>S769168</td>\n",
       "      <td>74</td>\n",
       "      <td>A769222</td>\n",
       "      <td>80</td>\n",
       "    </tr>\n",
       "    <tr>\n",
       "      <th>4</th>\n",
       "      <td>5</td>\n",
       "      <td>S609791</td>\n",
       "      <td>83</td>\n",
       "      <td>A609801</td>\n",
       "      <td>74</td>\n",
       "    </tr>\n",
       "    <tr>\n",
       "      <th>...</th>\n",
       "      <td>...</td>\n",
       "      <td>...</td>\n",
       "      <td>...</td>\n",
       "      <td>...</td>\n",
       "      <td>...</td>\n",
       "    </tr>\n",
       "    <tr>\n",
       "      <th>95</th>\n",
       "      <td>96</td>\n",
       "      <td>S285617</td>\n",
       "      <td>77</td>\n",
       "      <td>A285629</td>\n",
       "      <td>87</td>\n",
       "    </tr>\n",
       "    <tr>\n",
       "      <th>96</th>\n",
       "      <td>97</td>\n",
       "      <td>S324135</td>\n",
       "      <td>85</td>\n",
       "      <td>A324151</td>\n",
       "      <td>82</td>\n",
       "    </tr>\n",
       "    <tr>\n",
       "      <th>97</th>\n",
       "      <td>98</td>\n",
       "      <td>S292076</td>\n",
       "      <td>83</td>\n",
       "      <td>A292091</td>\n",
       "      <td>88</td>\n",
       "    </tr>\n",
       "    <tr>\n",
       "      <th>98</th>\n",
       "      <td>99</td>\n",
       "      <td>S936528</td>\n",
       "      <td>82</td>\n",
       "      <td>A936566</td>\n",
       "      <td>91</td>\n",
       "    </tr>\n",
       "    <tr>\n",
       "      <th>99</th>\n",
       "      <td>100</td>\n",
       "      <td>S489010</td>\n",
       "      <td>100</td>\n",
       "      <td>A489031</td>\n",
       "      <td>95</td>\n",
       "    </tr>\n",
       "  </tbody>\n",
       "</table>\n",
       "<p>100 rows × 5 columns</p>\n",
       "</div>"
      ],
      "text/plain": [
       "    Sr No S_Cust_id  Samsung_Score Apple_Cust_id  Apple_Score\n",
       "0       1   S336499             94       A336525           82\n",
       "1       2    S73004             99        A73011           83\n",
       "2       3    S79537             74        A79538           88\n",
       "3       4   S769168             74       A769222           80\n",
       "4       5   S609791             83       A609801           74\n",
       "..    ...       ...            ...           ...          ...\n",
       "95     96   S285617             77       A285629           87\n",
       "96     97   S324135             85       A324151           82\n",
       "97     98   S292076             83       A292091           88\n",
       "98     99   S936528             82       A936566           91\n",
       "99    100   S489010            100       A489031           95\n",
       "\n",
       "[100 rows x 5 columns]"
      ]
     },
     "execution_count": 3,
     "metadata": {},
     "output_type": "execute_result"
    }
   ],
   "source": [
    "df = pd.read_csv('apple_samsung.csv')\n",
    "df"
   ]
  },
  {
   "cell_type": "markdown",
   "metadata": {},
   "source": [
    "1) Нужно сформулировать нулевую и альтернативную гипотезы;   \n",
    "2) Определить пороговый уровень статистической значимости;  \n",
    "3) Сколько у нас выборок (какой вариант теста используем)?  \n",
    "3) Нужен ли односторонний, либо двухсторонний вариант теста?  https://stats.idre.ucla.edu/other/mult-pkg/faq/general/faq-what-are-the-differences-between-one-tailed-and-two-tailed-tests/  \n",
    "5) Определить, равна ли дисперсия групп."
   ]
  },
  {
   "cell_type": "markdown",
   "metadata": {},
   "source": [
    "## Клиенты удовлетворены продукцией Apple?\n",
    "Клиенты удовлетворены продукцией Apple **больше**, чем на 80%? (односторонний тест)"
   ]
  },
  {
   "cell_type": "markdown",
   "metadata": {},
   "source": [
    "H0: средняя удовлетворенность клиентов Apple продукцией компании <= 80%  \n",
    "H1: средняя удовлетворенность клиентов Apple продукцией компании составляет более 80%"
   ]
  },
  {
   "cell_type": "markdown",
   "metadata": {},
   "source": [
    "За alpha здесь и далее будем принимать 0.05"
   ]
  },
  {
   "cell_type": "markdown",
   "metadata": {},
   "source": [
    "Сравниваем значение по выборке с константой, поэтому нужен одновыборочный критерий."
   ]
  },
  {
   "cell_type": "code",
   "execution_count": 8,
   "metadata": {
    "scrolled": false
   },
   "outputs": [
    {
     "name": "stdout",
     "output_type": "stream",
     "text": [
      "87.81\n",
      "Ttest_1sampResult(statistic=8.111646895018431, pvalue=1.3831181714829016e-12)\n",
      "Отвергаем нулевую гипотезу, среднее больше 80 (продукция нравится)\n"
     ]
    }
   ],
   "source": [
    "from scipy import stats as st\n",
    "alpha = 0.05\n",
    "result = st.ttest_1samp(df['Apple_Score'], 80, alternative='greater')\n",
    "\n",
    "print(df['Apple_Score'].mean())\n",
    "print(result)\n",
    "\n",
    "if result.pvalue < alpha: \n",
    "    print('Отвергаем нулевую гипотезу, среднее больше 80 (продукция нравится)')\n",
    "else:\n",
    "    print('Не отвергаем нулевую нулевую гипотезу, продукция Apple не нравится клиентам')"
   ]
  },
  {
   "cell_type": "markdown",
   "metadata": {},
   "source": [
    "## Клиенты не удовлетворены продукцией Samsung?\n",
    "Клиенты удовлетворены продукцией Apple **меньше**, чем на 50%? (односторонний тест)"
   ]
  },
  {
   "cell_type": "markdown",
   "metadata": {},
   "source": [
    "H0: средняя удовлетворенность клиентов Samsung продукцией компании >= 50%  \n",
    "H1: средняя удовлетворенность клиентов Samsung продукцией компании составляет менее 50%"
   ]
  },
  {
   "cell_type": "code",
   "execution_count": 6,
   "metadata": {},
   "outputs": [
    {
     "name": "stdout",
     "output_type": "stream",
     "text": [
      "84.9\n",
      "Ttest_1sampResult(statistic=29.465073943150735, pvalue=1.0)\n",
      "Не отвергаем нулевую гипотезу\n"
     ]
    }
   ],
   "source": [
    "alpha = 0.05\n",
    "result = st.ttest_1samp(df['Samsung_Score'], 50, alternative='less')\n",
    "print(df['Samsung_Score'].mean())\n",
    "print(result)\n",
    "if result.pvalue < alpha:\n",
    "    print('Отвергаем нулевую гипотезу, среднее меньше 50')\n",
    "else:\n",
    "    print('Не отвергаем нулевую гипотезу')"
   ]
  },
  {
   "cell_type": "markdown",
   "metadata": {},
   "source": [
    "\n",
    "## Клиентам одинаково нравится продукция Apple и Samsung?\n",
    "Средняя удовлетворенность клиентов  Apple и Samsung **равна**? (двухсторонний тест)"
   ]
  },
  {
   "cell_type": "markdown",
   "metadata": {},
   "source": [
    "H0: средняя удовлетворенность клиентов Samsung и Apple одинаковая  \n",
    "H1: средняя удовлетворенность клиентов Samsung и Apple различается"
   ]
  },
  {
   "cell_type": "markdown",
   "metadata": {},
   "source": [
    "Здесь нам уже нужен двухвыборочный двухсторонний критерий.  \n"
   ]
  },
  {
   "cell_type": "markdown",
   "metadata": {},
   "source": [
    "Существует [мнение](http://daniellakens.blogspot.com/2015/01/always-use-welchs-t-test-instead-of.html), что использование критерия Уэлча всегда предпочтительнее, будем придерживаться этой позиции."
   ]
  },
  {
   "cell_type": "code",
   "execution_count": 7,
   "metadata": {},
   "outputs": [
    {
     "name": "stdout",
     "output_type": "stream",
     "text": [
      "Ttest_indResult(statistic=-1.9064295935043474, pvalue=0.05810311766331876)\n",
      "Не отвергаем нулевую гипотезу\n"
     ]
    }
   ],
   "source": [
    "result = st.ttest_ind(df['Samsung_Score'], df['Apple_Score'], equal_var=False)\n",
    "print(result)\n",
    "\n",
    "if (result.pvalue < alpha):\n",
    "    print('Отвергаем нулевую гипотезу, клиенты по разному относятся к продукции Apple и Samsung')\n",
    "else:\n",
    "    print('Не отвергаем нулевую гипотезу')"
   ]
  },
  {
   "cell_type": "code",
   "execution_count": null,
   "metadata": {},
   "outputs": [],
   "source": []
  }
 ],
 "metadata": {
  "kernelspec": {
   "display_name": "Python 3",
   "language": "python",
   "name": "python3"
  },
  "language_info": {
   "codemirror_mode": {
    "name": "ipython",
    "version": 3
   },
   "file_extension": ".py",
   "mimetype": "text/x-python",
   "name": "python",
   "nbconvert_exporter": "python",
   "pygments_lexer": "ipython3",
   "version": "3.8.5"
  }
 },
 "nbformat": 4,
 "nbformat_minor": 4
}
